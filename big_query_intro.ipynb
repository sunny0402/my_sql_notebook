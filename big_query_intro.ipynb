{
 "cells": [
  {
   "cell_type": "code",
   "execution_count": 5,
   "metadata": {},
   "outputs": [],
   "source": [
    "# 0. Activate venv: source myenv/bin/data_sql/bin/activate\n",
    "# 1. Install CLI: https://cloud.google.com/sdk/docs/install\n",
    "# 2. ./google-cloud-sdk/bin/gcloud init\n",
    "# 3. YouTube: https://www.youtube.com/watch?v=lLPdRRy7dfE\n",
    "# Kaggle Into to SQL: https://www.kaggle.com/code/dansbecker/getting-started-with-sql-and-bigquery\n",
    "\n",
    "\n",
    "\n",
    "\n",
    "import os\n",
    "from google.cloud import bigquery\n",
    "os.environ['GOOGLE_APPLICATION_CREDENTIALS'] = \"../myintroproject-394718-3e8aee8fee51.json\"\n",
    "client = bigquery.Client()\n",
    "# Construct a reference to the \"hacker_news\" dataset\n",
    "dataset_ref = client.dataset(\"hacker_news\", project=\"bigquery-public-data\")"
   ]
  },
  {
   "cell_type": "code",
   "execution_count": 6,
   "metadata": {},
   "outputs": [],
   "source": [
    "# API request - fetch the dataset\n",
    "dataset = client.get_dataset(dataset_ref)\n",
    "# List all the tables in the \"hacker_news\" dataset\n",
    "tables = list(client.list_tables(dataset))"
   ]
  },
  {
   "cell_type": "code",
   "execution_count": 7,
   "metadata": {},
   "outputs": [
    {
     "name": "stdout",
     "output_type": "stream",
     "text": [
      "full\n"
     ]
    }
   ],
   "source": [
    "# Print names of all tables in the dataset (there are four!)\n",
    "for table in tables:  \n",
    "    print(table.table_id)"
   ]
  },
  {
   "cell_type": "code",
   "execution_count": null,
   "metadata": {},
   "outputs": [],
   "source": [
    "\n",
    "# Construct a reference to the \"full\" table\n",
    "table_ref = dataset_ref.table(\"full\")\n",
    "\n",
    "# API request - fetch the table\n",
    "table = client.get_table(table_ref)\n",
    "# Print information on all the columns in the \"full\" table in the \"hacker_news\" dataset\n",
    "table.schema\n",
    "\n",
    "# Preview the first five lines of the \"full\" table\n",
    "client.list_rows(table, max_results=5).to_dataframe()\n",
    "\n",
    "# Preview the first five entries in the \"by\" column of the \"full\" table\n",
    "client.list_rows(table, selected_fields=table.schema[:1], max_results=5).to_dataframe()"
   ]
  }
 ],
 "metadata": {
  "kernelspec": {
   "display_name": "data_sql",
   "language": "python",
   "name": "python3"
  },
  "language_info": {
   "codemirror_mode": {
    "name": "ipython",
    "version": 3
   },
   "file_extension": ".py",
   "mimetype": "text/x-python",
   "name": "python",
   "nbconvert_exporter": "python",
   "pygments_lexer": "ipython3",
   "version": "3.9.12"
  },
  "orig_nbformat": 4,
  "vscode": {
   "interpreter": {
    "hash": "829698b937e30eb43880842e6af9f44d3fa67abee57b93e9f9f3cf366376dca0"
   }
  }
 },
 "nbformat": 4,
 "nbformat_minor": 2
}
